{
 "cells": [
  {
   "attachments": {},
   "cell_type": "markdown",
   "metadata": {},
   "source": [
    "## Machine Learning\n",
    "\n",
    "> Field of study that gives computer the ability to learn without being explicitly programmed\" - Arthur Samuel\n",
    "\n",
    "```\n",
    "Machine learning is a subfield of artificial intelligence that involves the development of algorithms and statistical models that enable computers to learn and improve from experience without being explicitly programmed. The primary goal of machine learning is to develop models that can automatically analyze large amounts of data, identify patterns, and make predictions or decisions based on the data.\n",
    "```\n"
   ]
  },
  {
   "attachments": {},
   "cell_type": "markdown",
   "metadata": {},
   "source": [
    "### Where do we use machine learning?\n",
    "\n",
    "Machine learning is used in a wide range of applications in different industries. Some of the common areas where machine learning is used include:\n",
    "\n",
    "- Image and speech recognition: Machine learning is used in image and speech recognition applications, such as face recognition, object detection, and speech-to-text conversion.\n",
    "\n",
    "- Natural Language Processing (NLP): Machine learning is used in NLP applications, such as sentiment analysis, language translation, chatbots, and voice assistants.\n",
    "\n",
    "- Fraud detection: Machine learning is used to detect fraudulent activities in financial transactions, such as credit card fraud, insurance fraud, and identity theft.\n",
    "\n",
    "- Recommendation systems: Machine learning is used in recommendation systems, such as those used by e-commerce websites, music and movie streaming services, and social media platforms, to suggest products or content based on a user's preferences.\n",
    "\n",
    "- Healthcare: Machine learning is used in healthcare applications, such as disease diagnosis, drug discovery, and medical image analysis.\n",
    "\n",
    "- Autonomous vehicles: Machine learning is used in autonomous vehicle technology, such as self-driving cars, to analyze sensor data and make real-time decisions.\n",
    "\n",
    "- Predictive maintenance: Machine learning is used in predictive maintenance applications, such as detecting equipment failures before they occur, reducing downtime and maintenance costs.\n",
    "\n",
    "These are just a few examples of the many applications of machine learning in different industries. As the technology advances, we can expect to see even more innovative use cases for machine learning in the future."
   ]
  },
  {
   "attachments": {},
   "cell_type": "markdown",
   "metadata": {},
   "source": [
    "###  Types of machine learning algorithms\n",
    "\n",
    "* Supervised Learning\n",
    "* Unsupervised Learning\n",
    "* Recommender System\n",
    "* Reinforcement Learning"
   ]
  },
  {
   "attachments": {},
   "cell_type": "markdown",
   "metadata": {},
   "source": [
    "### Supervised Learning\n",
    "- Takes Input to return some output i.e. dependent variable needs to be calculated using independent variables\n",
    "- Learns from being given right answers\n",
    "- Repititive training process untill desired accuracy is achieved\n",
    "\n",
    "*e.g.:*\n",
    "\n",
    "|Input                          |Output                             |Application                            |\n",
    "|:------------------------------|:----------------------------------|:--------------------------------------|\n",
    "|Email                          |Spam (0/1)                         |Spam filtering                         |\n",
    "|Audio                          |text transcripts                   |Speech recognition                     |\n",
    "|English                        |Spanish                            |Machine translation                    |\n",
    "|Ad, user, info                 |Click (0/1)                        |Online advertising                     |\n",
    "|Image, Radar info, etc         |Position of the cars               |Self-driving cars                      |\n",
    "|Image of phone                 |Defect (0/1)                       |Visual Inspection                      |"
   ]
  },
  {
   "attachments": {},
   "cell_type": "markdown",
   "metadata": {},
   "source": [
    "#### **Regression**\n",
    "\n",
    "<img src=\"./images/introduction/01_01_supervised_learning_regression.jpg\"  width=\"60%\" height=\"auto\">"
   ]
  },
  {
   "attachments": {},
   "cell_type": "markdown",
   "metadata": {},
   "source": [
    "An example of Supervised learning algorithm is **Regression**. In the above example a model needs to be built in order to predict the price of the house based on the size. Using the input data a model can be trained to create a linear line that best fits the data. Using the linear line the price of the house can be predicted. However the linear line can always not be the best solution. A curve can also be created to satisfy the points and then it can be used to predict the price.\n",
    "\n",
    "Here, supervised learning algorithm i.e. Regression is used to predict a number (price) among infinitely many possible outputs using the data (size)"
   ]
  },
  {
   "attachments": {},
   "cell_type": "markdown",
   "metadata": {},
   "source": [
    "#### **Classification**\n",
    "\n",
    "<img src=\"./images/introduction/01_02_supervised_learning_classification.jpg\"  width=\"60%\" height=\"auto\">"
   ]
  },
  {
   "attachments": {},
   "cell_type": "markdown",
   "metadata": {},
   "source": [
    "Another example of supervised learning algorithm is **Classification**. In such problems model has to predict the class/category from small number of possible categories based on the input feature(s). In the above example the model uses the data (size of the tumor) to determine if it is malignant or benign. Model is provided input samples with a size of tumors and whether it is benign and malignant. Based on the input model learns if a tumor is larger than a specific size then it is malignant otherwise benign."
   ]
  },
  {
   "attachments": {},
   "cell_type": "markdown",
   "metadata": {},
   "source": [
    "## Unsupervised learning\n",
    "\n",
    "- Data comes with input but no output labels. \n",
    "- Model has to find something interesting in unlabeled data. \n",
    "- Given the data, the model tries to identify different patterns or clusters from the data"
   ]
  },
  {
   "attachments": {},
   "cell_type": "markdown",
   "metadata": {},
   "source": [
    "#### **Clustering**\n",
    "\n",
    "<img src=\"./images/introduction/01_03_unsupervised_learning_clustering.jpg\"  width=\"60%\" height=\"auto\">"
   ]
  },
  {
   "attachments": {},
   "cell_type": "markdown",
   "metadata": {},
   "source": [
    "In the above example the model goes through the articles for the day and try to relate them to the original article. In clustering, the algorithm has to figure out on its own without supervision, what are the cluster of the data (news articles in the above example)"
   ]
  },
  {
   "cell_type": "markdown",
   "metadata": {},
   "source": []
  }
 ],
 "metadata": {
  "kernelspec": {
   "display_name": "ml-dev",
   "language": "python",
   "name": "python3"
  },
  "language_info": {
   "name": "python",
   "version": "3.10.9"
  },
  "orig_nbformat": 4,
  "vscode": {
   "interpreter": {
    "hash": "6641b855efaa07b361b1fbfc1a27b16adbd91f87bd806eaaf6eba28901f1d5dc"
   }
  }
 },
 "nbformat": 4,
 "nbformat_minor": 2
}
